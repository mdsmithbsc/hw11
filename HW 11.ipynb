{
 "cells": [
  {
   "cell_type": "code",
   "execution_count": 1,
   "metadata": {},
   "outputs": [],
   "source": [
    "import pandas as pd\n",
    "import numpy as np"
   ]
  },
  {
   "cell_type": "code",
   "execution_count": 2,
   "metadata": {},
   "outputs": [
    {
     "name": "stdout",
     "output_type": "stream",
     "text": [
      "             Open                                                          \\\n",
      "Name         AABA   AAPL   AMZN    AXP     BA    CAT   CSCO    CVX    DIS   \n",
      "Date                                                                        \n",
      "2006-01-03  39.69  10.34  47.47  51.70  70.40  57.87  17.21  57.25  24.08   \n",
      "2006-01-04  41.22  10.73  47.48  52.44  70.08  57.95  17.48  59.08  24.50   \n",
      "2006-01-05  40.93  10.69  47.16  51.90  70.55  59.02  17.94  58.68  24.13   \n",
      "2006-01-06  42.88  10.75  47.97  52.64  70.34  59.47  18.51  58.95  24.65   \n",
      "2006-01-09  43.10  10.96  46.55  52.82  69.28  60.45  18.97  59.49  24.85   \n",
      "2006-01-10  42.96  10.89  46.41  53.58  68.80  61.35  18.87  58.76  25.02   \n",
      "2006-01-11  42.19  11.98  45.65  53.70  69.97  60.87  18.98  59.22  25.38   \n",
      "2006-01-12  41.92  12.14  44.79  53.58  70.25  61.23  19.27  60.00  25.65   \n",
      "2006-01-13  41.00  12.14  44.48  53.70  69.64  62.02  19.13  59.89  25.61   \n",
      "2006-01-17  39.09  12.24  43.95  53.08  69.07  61.69  18.70  60.90  25.83   \n",
      "\n",
      "                      ...           Volume                                     \\\n",
      "Name           GE     ...             MSFT         NKE         PFE         PG   \n",
      "Date                  ...                                                       \n",
      "2006-01-03  35.10     ...       79974418.0  18468800.0  38052400.0  9741600.0   \n",
      "2006-01-04  35.35     ...       57975661.0  15832000.0  43972000.0  6746400.0   \n",
      "2006-01-05  35.27     ...       48247610.0   9256000.0  42601900.0  8936100.0   \n",
      "2006-01-06  35.38     ...      100969092.0   7573600.0  28523900.0  8826300.0   \n",
      "2006-01-09  35.40     ...       55627836.0  10441600.0  28080300.0  7715700.0   \n",
      "2006-01-10  35.27     ...       64924946.0  11837600.0  28630300.0  8553600.0   \n",
      "2006-01-11  35.14     ...       70123544.0  10372800.0  28433800.0  8791800.0   \n",
      "2006-01-12  35.45     ...       45994725.0  11159200.0  27020300.0  6612800.0   \n",
      "2006-01-13  34.90     ...       41449046.0   9612000.0  20972000.0  7146800.0   \n",
      "2006-01-17  35.63     ...       58574807.0  11075200.0  32153700.0  5299200.0   \n",
      "\n",
      "                                                                      \\\n",
      "Name              TRV         UNH        UTX          VZ         WMT   \n",
      "Date                                                                   \n",
      "2006-01-03  3843800.0   8070600.0  3716500.0  12903800.0  23413900.0   \n",
      "2006-01-04  2285900.0   5587100.0  3114500.0  31004500.0  14090700.0   \n",
      "2006-01-05  3069300.0   5626000.0  3118900.0  20664000.0  20759200.0   \n",
      "2006-01-06  2641500.0   5577800.0  2874300.0  57704300.0  21135000.0   \n",
      "2006-01-09  2201500.0   8831000.0  2467200.0  17600000.0  14890700.0   \n",
      "2006-01-10  1739000.0   6238100.0  3677300.0  30254800.0  13422500.0   \n",
      "2006-01-11  2425500.0   5519600.0  3161100.0  19609600.0  14179400.0   \n",
      "2006-01-12  2501900.0   5374100.0  4025300.0  24601600.0  11425700.0   \n",
      "2006-01-13  1719600.0  11005800.0  2136600.0  20380200.0  10260500.0   \n",
      "2006-01-17  2130800.0   6333200.0  3092600.0  18634600.0  17118300.0   \n",
      "\n",
      "                        \n",
      "Name               XOM  \n",
      "Date                    \n",
      "2006-01-03  23873200.0  \n",
      "2006-01-04  19086600.0  \n",
      "2006-01-05  17158600.0  \n",
      "2006-01-06  17370000.0  \n",
      "2006-01-09  17339500.0  \n",
      "2006-01-10  17913400.0  \n",
      "2006-01-11  17327100.0  \n",
      "2006-01-12  21130500.0  \n",
      "2006-01-13  17075900.0  \n",
      "2006-01-17  18193400.0  \n",
      "\n",
      "[10 rows x 155 columns]\n",
      "[('Open', 'AABA'), ('Open', 'AAPL'), ('Open', 'AMZN'), ('Open', 'AXP'), ('Open', 'BA'), ('Open', 'CAT'), ('Open', 'CSCO'), ('Open', 'CVX'), ('Open', 'DIS'), ('Open', 'GE'), ('Open', 'GOOGL'), ('Open', 'GS'), ('Open', 'HD'), ('Open', 'IBM'), ('Open', 'INTC'), ('Open', 'JNJ'), ('Open', 'JPM'), ('Open', 'KO'), ('Open', 'MCD'), ('Open', 'MMM'), ('Open', 'MRK'), ('Open', 'MSFT'), ('Open', 'NKE'), ('Open', 'PFE'), ('Open', 'PG'), ('Open', 'TRV'), ('Open', 'UNH'), ('Open', 'UTX'), ('Open', 'VZ'), ('Open', 'WMT'), ('Open', 'XOM'), ('High', 'AABA'), ('High', 'AAPL'), ('High', 'AMZN'), ('High', 'AXP'), ('High', 'BA'), ('High', 'CAT'), ('High', 'CSCO'), ('High', 'CVX'), ('High', 'DIS'), ('High', 'GE'), ('High', 'GOOGL'), ('High', 'GS'), ('High', 'HD'), ('High', 'IBM'), ('High', 'INTC'), ('High', 'JNJ'), ('High', 'JPM'), ('High', 'KO'), ('High', 'MCD'), ('High', 'MMM'), ('High', 'MRK'), ('High', 'MSFT'), ('High', 'NKE'), ('High', 'PFE'), ('High', 'PG'), ('High', 'TRV'), ('High', 'UNH'), ('High', 'UTX'), ('High', 'VZ'), ('High', 'WMT'), ('High', 'XOM'), ('Low', 'AABA'), ('Low', 'AAPL'), ('Low', 'AMZN'), ('Low', 'AXP'), ('Low', 'BA'), ('Low', 'CAT'), ('Low', 'CSCO'), ('Low', 'CVX'), ('Low', 'DIS'), ('Low', 'GE'), ('Low', 'GOOGL'), ('Low', 'GS'), ('Low', 'HD'), ('Low', 'IBM'), ('Low', 'INTC'), ('Low', 'JNJ'), ('Low', 'JPM'), ('Low', 'KO'), ('Low', 'MCD'), ('Low', 'MMM'), ('Low', 'MRK'), ('Low', 'MSFT'), ('Low', 'NKE'), ('Low', 'PFE'), ('Low', 'PG'), ('Low', 'TRV'), ('Low', 'UNH'), ('Low', 'UTX'), ('Low', 'VZ'), ('Low', 'WMT'), ('Low', 'XOM'), ('Close', 'AABA'), ('Close', 'AAPL'), ('Close', 'AMZN'), ('Close', 'AXP'), ('Close', 'BA'), ('Close', 'CAT'), ('Close', 'CSCO'), ('Close', 'CVX'), ('Close', 'DIS'), ('Close', 'GE'), ('Close', 'GOOGL'), ('Close', 'GS'), ('Close', 'HD'), ('Close', 'IBM'), ('Close', 'INTC'), ('Close', 'JNJ'), ('Close', 'JPM'), ('Close', 'KO'), ('Close', 'MCD'), ('Close', 'MMM'), ('Close', 'MRK'), ('Close', 'MSFT'), ('Close', 'NKE'), ('Close', 'PFE'), ('Close', 'PG'), ('Close', 'TRV'), ('Close', 'UNH'), ('Close', 'UTX'), ('Close', 'VZ'), ('Close', 'WMT'), ('Close', 'XOM'), ('Volume', 'AABA'), ('Volume', 'AAPL'), ('Volume', 'AMZN'), ('Volume', 'AXP'), ('Volume', 'BA'), ('Volume', 'CAT'), ('Volume', 'CSCO'), ('Volume', 'CVX'), ('Volume', 'DIS'), ('Volume', 'GE'), ('Volume', 'GOOGL'), ('Volume', 'GS'), ('Volume', 'HD'), ('Volume', 'IBM'), ('Volume', 'INTC'), ('Volume', 'JNJ'), ('Volume', 'JPM'), ('Volume', 'KO'), ('Volume', 'MCD'), ('Volume', 'MMM'), ('Volume', 'MRK'), ('Volume', 'MSFT'), ('Volume', 'NKE'), ('Volume', 'PFE'), ('Volume', 'PG'), ('Volume', 'TRV'), ('Volume', 'UNH'), ('Volume', 'UTX'), ('Volume', 'VZ'), ('Volume', 'WMT'), ('Volume', 'XOM')]\n"
     ]
    }
   ],
   "source": [
    "df = pd.read_csv('datasets/stocks/DJIA.csv')\n",
    "df\n",
    "stocks = df.pivot('Date', 'Name')\n",
    "print(stocks.head(10))\n",
    "print(list(stocks.columns.values))"
   ]
  },
  {
   "cell_type": "code",
   "execution_count": 3,
   "metadata": {},
   "outputs": [
    {
     "data": {
      "text/plain": [
       "Date\n",
       "2006-01-03    79.35\n",
       "2006-01-04    79.49\n",
       "2006-01-05    78.65\n",
       "2006-01-06    78.90\n",
       "2006-01-09    79.83\n",
       "Name: (High, MMM), dtype: float64"
      ]
     },
     "execution_count": 3,
     "metadata": {},
     "output_type": "execute_result"
    }
   ],
   "source": [
    "stocks[('High', 'MMM')].head()"
   ]
  },
  {
   "cell_type": "code",
   "execution_count": 4,
   "metadata": {},
   "outputs": [],
   "source": [
    "# Create variables for lead in 7 days:\n",
    "target  = stocks[('High', 'MMM')].shift(-7)\n",
    "target.head(10)\n",
    "features =  stocks.values\n",
    "target = target.values"
   ]
  },
  {
   "cell_type": "code",
   "execution_count": 5,
   "metadata": {},
   "outputs": [
    {
     "data": {
      "text/plain": [
       "array([[3013],\n",
       "       [3014],\n",
       "       [3015],\n",
       "       [3016],\n",
       "       [3017],\n",
       "       [3018],\n",
       "       [3019]], dtype=int64)"
      ]
     },
     "execution_count": 5,
     "metadata": {},
     "output_type": "execute_result"
    }
   ],
   "source": [
    "np.argwhere(np.isnan(target))"
   ]
  },
  {
   "cell_type": "code",
   "execution_count": 6,
   "metadata": {},
   "outputs": [
    {
     "data": {
      "text/plain": [
       "array([[ 907,   20],\n",
       "       [ 907,   51],\n",
       "       [ 907,   82],\n",
       "       [ 907,  113],\n",
       "       [ 907,  144],\n",
       "       [1068,    0],\n",
       "       [1068,    1],\n",
       "       [1068,    2],\n",
       "       [1068,    6],\n",
       "       [1068,   10],\n",
       "       [1068,   14],\n",
       "       [1068,   21],\n",
       "       [1068,   31],\n",
       "       [1068,   32],\n",
       "       [1068,   33],\n",
       "       [1068,   37],\n",
       "       [1068,   41],\n",
       "       [1068,   45],\n",
       "       [1068,   52],\n",
       "       [1068,   62],\n",
       "       [1068,   63],\n",
       "       [1068,   64],\n",
       "       [1068,   68],\n",
       "       [1068,   72],\n",
       "       [1068,   76],\n",
       "       [1068,   83],\n",
       "       [1068,   93],\n",
       "       [1068,   94],\n",
       "       [1068,   95],\n",
       "       [1068,   99],\n",
       "       [1068,  103],\n",
       "       [1068,  107],\n",
       "       [1068,  114],\n",
       "       [1068,  124],\n",
       "       [1068,  125],\n",
       "       [1068,  126],\n",
       "       [1068,  130],\n",
       "       [1068,  134],\n",
       "       [1068,  138],\n",
       "       [1068,  145],\n",
       "       [1657,    8],\n",
       "       [1657,   39],\n",
       "       [1657,   70],\n",
       "       [2913,    3],\n",
       "       [2913,    4],\n",
       "       [2913,    5],\n",
       "       [2913,    7],\n",
       "       [2913,    8],\n",
       "       [2913,    9],\n",
       "       [2913,   11],\n",
       "       [2913,   12],\n",
       "       [2913,   13],\n",
       "       [2913,   15],\n",
       "       [2913,   16],\n",
       "       [2913,   17],\n",
       "       [2913,   18],\n",
       "       [2913,   19],\n",
       "       [2913,   20],\n",
       "       [2913,   22],\n",
       "       [2913,   23],\n",
       "       [2913,   24],\n",
       "       [2913,   25],\n",
       "       [2913,   26],\n",
       "       [2913,   27],\n",
       "       [2913,   28],\n",
       "       [2913,   29],\n",
       "       [2913,   30],\n",
       "       [2913,   35],\n",
       "       [2913,   36],\n",
       "       [2913,   48],\n",
       "       [2913,   49],\n",
       "       [2913,   51],\n",
       "       [2913,   54],\n",
       "       [2913,   56],\n",
       "       [2913,   57],\n",
       "       [2913,   60],\n",
       "       [2913,   65],\n",
       "       [2913,   66],\n",
       "       [2913,   67],\n",
       "       [2913,   69],\n",
       "       [2913,   70],\n",
       "       [2913,   71],\n",
       "       [2913,   73],\n",
       "       [2913,   74],\n",
       "       [2913,   75],\n",
       "       [2913,   77],\n",
       "       [2913,   78],\n",
       "       [2913,   81],\n",
       "       [2913,   85],\n",
       "       [2913,   86],\n",
       "       [2913,   87],\n",
       "       [2913,   88],\n",
       "       [2913,   90],\n",
       "       [2913,   91],\n",
       "       [2913,   92]], dtype=int64)"
      ]
     },
     "execution_count": 6,
     "metadata": {},
     "output_type": "execute_result"
    }
   ],
   "source": [
    "np.argwhere(np.isnan(features))"
   ]
  },
  {
   "cell_type": "code",
   "execution_count": 7,
   "metadata": {},
   "outputs": [],
   "source": [
    "from sklearn.impute import SimpleImputer\n",
    "imp = SimpleImputer(strategy='mean')\n",
    "X_imp = imp.fit_transform(features)   "
   ]
  },
  {
   "cell_type": "code",
   "execution_count": 8,
   "metadata": {},
   "outputs": [],
   "source": [
    "# Normilize data, drop NaN obs\n",
    "X_imp = X_imp[:-8,]\n",
    "target = target[:-8,]\n",
    "import sklearn.preprocessing\n",
    "X_norm = sklearn.preprocessing.normalize(X_imp)"
   ]
  },
  {
   "cell_type": "markdown",
   "metadata": {},
   "source": [
    "# Problem 1. \n",
    "Scale the data. Use 10000 iterations with 30 steps to predict target using RNN with 3 neural layers with 100 neurons each [100,100,100].Use learning_rate = 0.001.\n",
    "\n",
    "a. Generate predicted price from the model. \n",
    "b. Calculate expected profit from 7 day investement\n",
    "c. Find 10 days with best expected rate of 7 day investement\n",
    "d. calculate expected and observed profit for these 10 best investement days\n",
    "e. Find average expected and realized profit for all days in the data"
   ]
  },
  {
   "cell_type": "code",
   "execution_count": 9,
   "metadata": {},
   "outputs": [],
   "source": [
    "import tensorflow as tf\n",
    "def reset_graph(seed=42):\n",
    "    tf.reset_default_graph()\n",
    "    tf.set_random_seed(seed)\n",
    "    np.random.seed(seed)\n",
    "\n",
    "reset_graph()\n",
    "\n",
    "\n",
    "n_steps = 30\n",
    "n_inputs = len(stocks.columns)\n",
    "n_neurons = 50\n",
    "n_outputs = 1\n",
    "learning_rate = 0.001\n",
    "batch_size = 1\n",
    "n_iterations = 10000\n",
    "\n",
    "X = tf.placeholder(tf.float32, [None, n_steps, n_inputs])\n",
    "y = tf.placeholder(tf.float32, [None, n_steps, n_outputs])"
   ]
  },
  {
   "cell_type": "code",
   "execution_count": null,
   "metadata": {},
   "outputs": [],
   "source": []
  }
 ],
 "metadata": {
  "kernelspec": {
   "display_name": "Python 3",
   "language": "python",
   "name": "python3"
  },
  "language_info": {
   "codemirror_mode": {
    "name": "ipython",
    "version": 3
   },
   "file_extension": ".py",
   "mimetype": "text/x-python",
   "name": "python",
   "nbconvert_exporter": "python",
   "pygments_lexer": "ipython3",
   "version": "3.5.0"
  }
 },
 "nbformat": 4,
 "nbformat_minor": 2
}
